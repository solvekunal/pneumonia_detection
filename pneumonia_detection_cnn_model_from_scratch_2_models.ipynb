{
 "cells": [
  {
   "cell_type": "code",
   "execution_count": 1,
   "id": "fe6a139d",
   "metadata": {},
   "outputs": [],
   "source": [
    "import numpy as np\n",
    "import pandas as pd\n",
    "\n",
    "import matplotlib.pyplot as plt\n",
    "\n",
    "import cv2\n",
    "import os\n",
    "import tensorflow as tf\n",
    "import keras"
   ]
  },
  {
   "cell_type": "code",
   "execution_count": 2,
   "id": "f8e42b7c",
   "metadata": {},
   "outputs": [],
   "source": [
    "#from tensorflow.keras.preprocessing.image import ImageDataGenerator"
   ]
  },
  {
   "cell_type": "code",
   "execution_count": 3,
   "id": "2134e217",
   "metadata": {},
   "outputs": [],
   "source": [
    "#train_datagen=ImageDataGenerator(rescale=1/255)\n",
    "\n",
    "#val_datagen=ImageDataGenerator(rescale=1/255)\n",
    "\n",
    "#test_datagen=ImageDataGenerator(rescale=1/255)"
   ]
  },
  {
   "cell_type": "code",
   "execution_count": 4,
   "id": "8b36d7e1",
   "metadata": {},
   "outputs": [],
   "source": [
    "from tensorflow.keras.utils import image_dataset_from_directory"
   ]
  },
  {
   "cell_type": "code",
   "execution_count": 27,
   "id": "e7c45351",
   "metadata": {},
   "outputs": [
    {
     "name": "stdout",
     "output_type": "stream",
     "text": [
      "Found 5216 files belonging to 2 classes.\n"
     ]
    }
   ],
   "source": [
    "train_ds = image_dataset_from_directory(r'E:\\AI\\dataset_for_image_classification\\chest_x_ray_pneumonia_dataset\\chest_xray\\train',\n",
    "                                  image_size=(200,200),\n",
    "                                  seed=42,  batch_size=33)"
   ]
  },
  {
   "cell_type": "markdown",
   "id": "af372d8d",
   "metadata": {},
   "source": [
    "# train_ds2=train_datagen.flow_from_directory(r'E:\\AI\\dataset_for_image_classification\\chest_x_ray_pneumonia_dataset\\chest_xray\\train',\n",
    "                                  subset=\"training\",\n",
    "                                  target_size=(200,200),\n",
    "                                  batch_size=41)"
   ]
  },
  {
   "cell_type": "code",
   "execution_count": 7,
   "id": "66b6656e",
   "metadata": {},
   "outputs": [
    {
     "name": "stdout",
     "output_type": "stream",
     "text": [
      "Found 624 files belonging to 2 classes.\n"
     ]
    }
   ],
   "source": [
    "test_ds=image_dataset_from_directory(r'E:\\AI\\dataset_for_image_classification\\chest_x_ray_pneumonia_dataset\\chest_xray\\test',\n",
    "                                  image_size=(200,200),\n",
    "                                  batch_size=41)"
   ]
  },
  {
   "cell_type": "code",
   "execution_count": 26,
   "id": "92f49e4e",
   "metadata": {},
   "outputs": [
    {
     "name": "stdout",
     "output_type": "stream",
     "text": [
      "Found 16 files belonging to 2 classes.\n"
     ]
    }
   ],
   "source": [
    "val_ds=image_dataset_from_directory(r'E:\\AI\\dataset_for_image_classification\\chest_x_ray_pneumonia_dataset\\chest_xray\\val',\n",
    "                                  image_size=(200,200),\n",
    "                                  batch_size=4)"
   ]
  },
  {
   "cell_type": "code",
   "execution_count": 9,
   "id": "bfdcf8c8",
   "metadata": {},
   "outputs": [],
   "source": [
    "from tensorflow.keras.models import Sequential\n",
    "\n",
    "from tensorflow.keras.layers import Dense, Dropout,MaxPooling2D , Convolution2D, Flatten , BatchNormalization"
   ]
  },
  {
   "cell_type": "markdown",
   "id": "6d326cc3",
   "metadata": {},
   "source": [
    "# NOTE, here i didnot need to use PD.GET_DUMMIES OR TO_CATEGORICAL FEATURE OF UTILS for onehot encoding the y labels BUT WHY?"
   ]
  },
  {
   "cell_type": "code",
   "execution_count": 10,
   "id": "87b9b80e",
   "metadata": {},
   "outputs": [
    {
     "data": {
      "text/plain": [
       "<Sequential name=sequential, built=False>"
      ]
     },
     "execution_count": 10,
     "metadata": {},
     "output_type": "execute_result"
    }
   ],
   "source": [
    "model_pneumonia=Sequential()\n",
    "model_pneumonia"
   ]
  },
  {
   "cell_type": "code",
   "execution_count": 11,
   "id": "5ba5270f",
   "metadata": {},
   "outputs": [],
   "source": [
    "from tensorflow.keras import layers\n",
    "\n",
    "data_augmentation = tf.keras.Sequential(\n",
    "    [ tf.keras.layers.RandomFlip(\"horizontal\"),\n",
    "      tf.keras.layers.RandomRotation(0.2),\n",
    "      tf.keras.layers.RandomZoom(0.5)])"
   ]
  },
  {
   "cell_type": "code",
   "execution_count": 12,
   "id": "892282a4",
   "metadata": {},
   "outputs": [
    {
     "name": "stderr",
     "output_type": "stream",
     "text": [
      "C:\\Users\\HP\\anaconda3\\Lib\\site-packages\\keras\\src\\layers\\normalization\\batch_normalization.py:143: UserWarning: Do not pass an `input_shape`/`input_dim` argument to a layer. When using Sequential models, prefer using an `Input(shape)` object as the first layer in the model instead.\n",
      "  super().__init__(**kwargs)\n"
     ]
    }
   ],
   "source": [
    "model_pneumonia.add(data_augmentation)\n",
    "model_pneumonia.add(BatchNormalization(input_shape=(200,200,3)))\n",
    "\n",
    "model_pneumonia.add(Convolution2D(filters=32, kernel_size=3, activation='relu'))\n",
    "model_pneumonia.add(MaxPooling2D())\n",
    "\n",
    "model_pneumonia.add(Convolution2D(filters=32, kernel_size=3, activation='relu'))\n",
    "model_pneumonia.add(MaxPooling2D())\n",
    "\n",
    "model_pneumonia.add(Convolution2D(filters=32, kernel_size=3, activation='relu'))\n",
    "model_pneumonia.add(MaxPooling2D())\n",
    "\n",
    "model_pneumonia.add(Flatten())\n",
    "\n",
    "model_pneumonia.add(Dense(32,activation='relu'))\n",
    "model_pneumonia.add(Dense(32,activation='relu'))\n",
    "model_pneumonia.add(Dense(32,activation='relu'))\n",
    "model_pneumonia.add(Dense(2,activation='softmax'))"
   ]
  },
  {
   "cell_type": "code",
   "execution_count": 13,
   "id": "f4b05838",
   "metadata": {},
   "outputs": [],
   "source": [
    "model_pneumonia.compile(loss='sparse_categorical_crossentropy',\n",
    "                       metrics=['accuracy'],\n",
    "                       optimizer='adam')"
   ]
  },
  {
   "cell_type": "code",
   "execution_count": 14,
   "id": "8f4e4c11",
   "metadata": {},
   "outputs": [
    {
     "name": "stdout",
     "output_type": "stream",
     "text": [
      "Epoch 1/5\n",
      "\u001b[1m128/128\u001b[0m \u001b[32m━━━━━━━━━━━━━━━━━━━━\u001b[0m\u001b[37m\u001b[0m \u001b[1m184s\u001b[0m 1s/step - accuracy: 0.7353 - loss: 0.5679\n",
      "Epoch 2/5\n",
      "\u001b[1m128/128\u001b[0m \u001b[32m━━━━━━━━━━━━━━━━━━━━\u001b[0m\u001b[37m\u001b[0m \u001b[1m173s\u001b[0m 1s/step - accuracy: 0.8367 - loss: 0.3883\n",
      "Epoch 3/5\n",
      "\u001b[1m128/128\u001b[0m \u001b[32m━━━━━━━━━━━━━━━━━━━━\u001b[0m\u001b[37m\u001b[0m \u001b[1m174s\u001b[0m 1s/step - accuracy: 0.8642 - loss: 0.3444\n",
      "Epoch 4/5\n",
      "\u001b[1m128/128\u001b[0m \u001b[32m━━━━━━━━━━━━━━━━━━━━\u001b[0m\u001b[37m\u001b[0m \u001b[1m167s\u001b[0m 1s/step - accuracy: 0.8811 - loss: 0.2903\n",
      "Epoch 5/5\n",
      "\u001b[1m128/128\u001b[0m \u001b[32m━━━━━━━━━━━━━━━━━━━━\u001b[0m\u001b[37m\u001b[0m \u001b[1m177s\u001b[0m 1s/step - accuracy: 0.8849 - loss: 0.2758\n"
     ]
    }
   ],
   "source": [
    "history1=model_pneumonia.fit(train_ds, epochs=5  , verbose=1)"
   ]
  },
  {
   "cell_type": "code",
   "execution_count": null,
   "id": "da778623",
   "metadata": {},
   "outputs": [],
   "source": [
    "train_ds=tensorflow.keras.preprocessing.image"
   ]
  },
  {
   "cell_type": "code",
   "execution_count": 15,
   "id": "3f47e0af",
   "metadata": {},
   "outputs": [
    {
     "data": {
      "text/plain": [
       "[<matplotlib.lines.Line2D at 0x11efa362a90>]"
      ]
     },
     "execution_count": 15,
     "metadata": {},
     "output_type": "execute_result"
    },
    {
     "data": {
      "image/png": "[encoded data removed]",
      "text/plain": [
       "<Figure size 640x480 with 1 Axes>"
      ]
     },
     "metadata": {},
     "output_type": "display_data"
    }
   ],
   "source": [
    "plt.plot(history1.history['accuracy'])"
   ]
  },
  {
   "cell_type": "code",
   "execution_count": 16,
   "id": "e93d7bf1",
   "metadata": {},
   "outputs": [
    {
     "name": "stdout",
     "output_type": "stream",
     "text": [
      "Epoch 1/10\n",
      "\u001b[1m128/128\u001b[0m \u001b[32m━━━━━━━━━━━━━━━━━━━━\u001b[0m\u001b[37m\u001b[0m \u001b[1m174s\u001b[0m 1s/step - accuracy: 0.9035 - loss: 0.2405\n",
      "Epoch 2/10\n",
      "\u001b[1m128/128\u001b[0m \u001b[32m━━━━━━━━━━━━━━━━━━━━\u001b[0m\u001b[37m\u001b[0m \u001b[1m174s\u001b[0m 1s/step - accuracy: 0.9094 - loss: 0.2428\n",
      "Epoch 3/10\n",
      "\u001b[1m128/128\u001b[0m \u001b[32m━━━━━━━━━━━━━━━━━━━━\u001b[0m\u001b[37m\u001b[0m \u001b[1m170s\u001b[0m 1s/step - accuracy: 0.9240 - loss: 0.2095\n",
      "Epoch 4/10\n",
      "\u001b[1m128/128\u001b[0m \u001b[32m━━━━━━━━━━━━━━━━━━━━\u001b[0m\u001b[37m\u001b[0m \u001b[1m169s\u001b[0m 1s/step - accuracy: 0.9166 - loss: 0.2074\n",
      "Epoch 5/10\n",
      "\u001b[1m128/128\u001b[0m \u001b[32m━━━━━━━━━━━━━━━━━━━━\u001b[0m\u001b[37m\u001b[0m \u001b[1m168s\u001b[0m 1s/step - accuracy: 0.9167 - loss: 0.2081\n",
      "Epoch 6/10\n",
      "\u001b[1m128/128\u001b[0m \u001b[32m━━━━━━━━━━━━━━━━━━━━\u001b[0m\u001b[37m\u001b[0m \u001b[1m167s\u001b[0m 1s/step - accuracy: 0.9285 - loss: 0.1868\n",
      "Epoch 7/10\n",
      "\u001b[1m128/128\u001b[0m \u001b[32m━━━━━━━━━━━━━━━━━━━━\u001b[0m\u001b[37m\u001b[0m \u001b[1m166s\u001b[0m 1s/step - accuracy: 0.9262 - loss: 0.1921\n",
      "Epoch 8/10\n",
      "\u001b[1m128/128\u001b[0m \u001b[32m━━━━━━━━━━━━━━━━━━━━\u001b[0m\u001b[37m\u001b[0m \u001b[1m172s\u001b[0m 1s/step - accuracy: 0.9330 - loss: 0.1805\n",
      "Epoch 9/10\n",
      "\u001b[1m128/128\u001b[0m \u001b[32m━━━━━━━━━━━━━━━━━━━━\u001b[0m\u001b[37m\u001b[0m \u001b[1m166s\u001b[0m 1s/step - accuracy: 0.9282 - loss: 0.1688\n",
      "Epoch 10/10\n",
      "\u001b[1m128/128\u001b[0m \u001b[32m━━━━━━━━━━━━━━━━━━━━\u001b[0m\u001b[37m\u001b[0m \u001b[1m167s\u001b[0m 1s/step - accuracy: 0.9366 - loss: 0.1675\n"
     ]
    }
   ],
   "source": [
    "history2=model_pneumonia.fit(train_ds, epochs=10)"
   ]
  },
  {
   "cell_type": "code",
   "execution_count": null,
   "id": "b804f330",
   "metadata": {},
   "outputs": [],
   "source": []
  },
  {
   "cell_type": "code",
   "execution_count": null,
   "id": "4673f392",
   "metadata": {},
   "outputs": [],
   "source": []
  },
  {
   "cell_type": "code",
   "execution_count": 17,
   "id": "f7be6941",
   "metadata": {},
   "outputs": [
    {
     "data": {
      "text/plain": [
       "[<matplotlib.lines.Line2D at 0x11ec26b2790>]"
      ]
     },
     "execution_count": 17,
     "metadata": {},
     "output_type": "execute_result"
    },
    {
     "data": {
      "image/png": "[encoded data removed]",
      "text/plain": [
       "<Figure size 640x480 with 1 Axes>"
      ]
     },
     "metadata": {},
     "output_type": "display_data"
    }
   ],
   "source": [
    "plt.plot(history2.history['accuracy'])"
   ]
  },
  {
   "cell_type": "code",
   "execution_count": 18,
   "id": "c8e039e9",
   "metadata": {},
   "outputs": [
    {
     "name": "stdout",
     "output_type": "stream",
     "text": [
      "\u001b[1m1/1\u001b[0m \u001b[32m━━━━━━━━━━━━━━━━━━━━\u001b[0m\u001b[37m\u001b[0m \u001b[1m0s\u001b[0m 492ms/step\n"
     ]
    },
    {
     "data": {
      "text/plain": [
       "array([[0.14943153, 0.8505685 ],\n",
       "       [0.08608317, 0.9139169 ],\n",
       "       [0.1651567 , 0.8348433 ],\n",
       "       [0.01451836, 0.9854816 ],\n",
       "       [0.07741276, 0.9225873 ],\n",
       "       [0.41942686, 0.5805731 ],\n",
       "       [0.41176525, 0.5882348 ],\n",
       "       [0.58729154, 0.4127085 ],\n",
       "       [0.00801869, 0.9919813 ],\n",
       "       [0.48606956, 0.51393044],\n",
       "       [0.0889947 , 0.9110053 ],\n",
       "       [0.78957444, 0.21042557],\n",
       "       [0.23143464, 0.76856536],\n",
       "       [0.03111481, 0.9688852 ],\n",
       "       [0.24089104, 0.75910896],\n",
       "       [0.22366774, 0.77633226]], dtype=float32)"
      ]
     },
     "execution_count": 18,
     "metadata": {},
     "output_type": "execute_result"
    }
   ],
   "source": [
    "pred_val=model_pneumonia.predict(val_ds)\n",
    "pred_val"
   ]
  },
  {
   "cell_type": "code",
   "execution_count": 19,
   "id": "5c78eef1",
   "metadata": {},
   "outputs": [
    {
     "name": "stdout",
     "output_type": "stream",
     "text": [
      "\u001b[1m16/16\u001b[0m \u001b[32m━━━━━━━━━━━━━━━━━━━━\u001b[0m\u001b[37m\u001b[0m \u001b[1m6s\u001b[0m 327ms/step\n"
     ]
    },
    {
     "data": {
      "text/plain": [
       "array([[0.26783258, 0.7321675 ],\n",
       "       [0.01920309, 0.98079693],\n",
       "       [0.691878  , 0.30812198],\n",
       "       ...,\n",
       "       [0.9300587 , 0.0699413 ],\n",
       "       [0.00480044, 0.99519956],\n",
       "       [0.07429329, 0.92570674]], dtype=float32)"
      ]
     },
     "execution_count": 19,
     "metadata": {},
     "output_type": "execute_result"
    }
   ],
   "source": [
    "pred_test=model_pneumonia.predict(test_ds)\n",
    "pred_test"
   ]
  },
  {
   "cell_type": "code",
   "execution_count": 20,
   "id": "ebb86726",
   "metadata": {},
   "outputs": [],
   "source": [
    "def acc(y_true, y_pred):\n",
    "    return np.equal(y_true, np.round(y_pred)).mean()"
   ]
  },
  {
   "cell_type": "code",
   "execution_count": null,
   "id": "099c8fab",
   "metadata": {},
   "outputs": [],
   "source": []
  },
  {
   "cell_type": "code",
   "execution_count": null,
   "id": "2ad3707a",
   "metadata": {},
   "outputs": [],
   "source": []
  },
  {
   "cell_type": "code",
   "execution_count": null,
   "id": "2f6699c0",
   "metadata": {},
   "outputs": [],
   "source": []
  },
  {
   "cell_type": "markdown",
   "id": "9a4e9a09",
   "metadata": {},
   "source": [
    "# now, lets change the hyper parameters and then check models accuracy"
   ]
  },
  {
   "cell_type": "code",
   "execution_count": 28,
   "id": "cd232c44",
   "metadata": {},
   "outputs": [
    {
     "data": {
      "text/plain": [
       "<Sequential name=sequential_4, built=False>"
      ]
     },
     "execution_count": 28,
     "metadata": {},
     "output_type": "execute_result"
    }
   ],
   "source": [
    "model_pneumonia3=Sequential()\n",
    "model_pneumonia3"
   ]
  },
  {
   "cell_type": "code",
   "execution_count": 29,
   "id": "6c35abcb",
   "metadata": {},
   "outputs": [],
   "source": [
    "from tensorflow.keras import layers\n",
    "\n",
    "data_augmentation3 = tf.keras.Sequential(\n",
    "    [ tf.keras.layers.RandomFlip(\"horizontal\"),\n",
    "      tf.keras.layers.RandomRotation(0.5),\n",
    "      tf.keras.layers.RandomZoom(0.75)])"
   ]
  },
  {
   "cell_type": "code",
   "execution_count": 30,
   "id": "6a1b6b29",
   "metadata": {},
   "outputs": [],
   "source": [
    "model_pneumonia3.add(data_augmentation)\n",
    "model_pneumonia3.add(BatchNormalization(input_shape=(200,200,3)))\n",
    "\n",
    "model_pneumonia3.add(Convolution2D(filters=32, kernel_size=3, activation='relu'))\n",
    "model_pneumonia3.add(MaxPooling2D())\n",
    "\n",
    "model_pneumonia3.add(Convolution2D(filters=64, kernel_size=3, activation='relu'))\n",
    "model_pneumonia3.add(MaxPooling2D())\n",
    "\n",
    "model_pneumonia3.add(Convolution2D(filters=128, kernel_size=3, activation='relu'))\n",
    "model_pneumonia3.add(MaxPooling2D(2))\n",
    "\n",
    "model_pneumonia3.add(Convolution2D(filters=64, kernel_size=3, activation='relu'))\n",
    "model_pneumonia3.add(MaxPooling2D(2))\n",
    "\n",
    "model_pneumonia3.add(Flatten())\n",
    "\n",
    "model_pneumonia3.add(Dense(32,activation='relu'))\n",
    "model_pneumonia3.add(Dense(64,activation='relu'))\n",
    "model_pneumonia3.add(Dense(128,activation='relu'))\n",
    "model_pneumonia3.add(Dense(32,activation='relu'))\n",
    "model_pneumonia3.add(Dense(2,activation='softmax'))"
   ]
  },
  {
   "cell_type": "code",
   "execution_count": 31,
   "id": "8d4e32df",
   "metadata": {},
   "outputs": [],
   "source": [
    "model_pneumonia3.compile(loss='sparse_categorical_crossentropy',\n",
    "                       metrics=['accuracy'],\n",
    "                       optimizer='adam')"
   ]
  },
  {
   "cell_type": "code",
   "execution_count": 33,
   "id": "651898af",
   "metadata": {},
   "outputs": [
    {
     "name": "stdout",
     "output_type": "stream",
     "text": [
      "Epoch 1/15\n",
      "\u001b[1m159/159\u001b[0m \u001b[32m━━━━━━━━━━━━━━━━━━━━\u001b[0m\u001b[37m\u001b[0m \u001b[1m307s\u001b[0m 2s/step - accuracy: 0.7247 - loss: 0.5672\n",
      "Epoch 2/15\n",
      "\u001b[1m159/159\u001b[0m \u001b[32m━━━━━━━━━━━━━━━━━━━━\u001b[0m\u001b[37m\u001b[0m \u001b[1m302s\u001b[0m 2s/step - accuracy: 0.8224 - loss: 0.4241\n",
      "Epoch 3/15\n",
      "\u001b[1m159/159\u001b[0m \u001b[32m━━━━━━━━━━━━━━━━━━━━\u001b[0m\u001b[37m\u001b[0m \u001b[1m321s\u001b[0m 2s/step - accuracy: 0.8528 - loss: 0.3639\n",
      "Epoch 4/15\n",
      "\u001b[1m159/159\u001b[0m \u001b[32m━━━━━━━━━━━━━━━━━━━━\u001b[0m\u001b[37m\u001b[0m \u001b[1m301s\u001b[0m 2s/step - accuracy: 0.8791 - loss: 0.3086\n",
      "Epoch 5/15\n",
      "\u001b[1m159/159\u001b[0m \u001b[32m━━━━━━━━━━━━━━━━━━━━\u001b[0m\u001b[37m\u001b[0m \u001b[1m324s\u001b[0m 2s/step - accuracy: 0.9036 - loss: 0.2478\n",
      "Epoch 6/15\n",
      "\u001b[1m159/159\u001b[0m \u001b[32m━━━━━━━━━━━━━━━━━━━━\u001b[0m\u001b[37m\u001b[0m \u001b[1m301s\u001b[0m 2s/step - accuracy: 0.9045 - loss: 0.2369\n",
      "Epoch 7/15\n",
      "\u001b[1m159/159\u001b[0m \u001b[32m━━━━━━━━━━━━━━━━━━━━\u001b[0m\u001b[37m\u001b[0m \u001b[1m300s\u001b[0m 2s/step - accuracy: 0.9181 - loss: 0.2158\n",
      "Epoch 8/15\n",
      "\u001b[1m159/159\u001b[0m \u001b[32m━━━━━━━━━━━━━━━━━━━━\u001b[0m\u001b[37m\u001b[0m \u001b[1m299s\u001b[0m 2s/step - accuracy: 0.9045 - loss: 0.2392\n",
      "Epoch 9/15\n",
      "\u001b[1m159/159\u001b[0m \u001b[32m━━━━━━━━━━━━━━━━━━━━\u001b[0m\u001b[37m\u001b[0m \u001b[1m668s\u001b[0m 4s/step - accuracy: 0.9206 - loss: 0.1960\n",
      "Epoch 10/15\n",
      "\u001b[1m159/159\u001b[0m \u001b[32m━━━━━━━━━━━━━━━━━━━━\u001b[0m\u001b[37m\u001b[0m \u001b[1m292s\u001b[0m 2s/step - accuracy: 0.9336 - loss: 0.1744\n",
      "Epoch 11/15\n",
      "\u001b[1m159/159\u001b[0m \u001b[32m━━━━━━━━━━━━━━━━━━━━\u001b[0m\u001b[37m\u001b[0m \u001b[1m273s\u001b[0m 2s/step - accuracy: 0.9195 - loss: 0.2129\n",
      "Epoch 12/15\n",
      "\u001b[1m159/159\u001b[0m \u001b[32m━━━━━━━━━━━━━━━━━━━━\u001b[0m\u001b[37m\u001b[0m \u001b[1m275s\u001b[0m 2s/step - accuracy: 0.9363 - loss: 0.1779\n",
      "Epoch 13/15\n",
      "\u001b[1m159/159\u001b[0m \u001b[32m━━━━━━━━━━━━━━━━━━━━\u001b[0m\u001b[37m\u001b[0m \u001b[1m274s\u001b[0m 2s/step - accuracy: 0.9316 - loss: 0.1829\n",
      "Epoch 14/15\n",
      "\u001b[1m159/159\u001b[0m \u001b[32m━━━━━━━━━━━━━━━━━━━━\u001b[0m\u001b[37m\u001b[0m \u001b[1m360s\u001b[0m 2s/step - accuracy: 0.9327 - loss: 0.1740\n",
      "Epoch 15/15\n",
      "\u001b[1m159/159\u001b[0m \u001b[32m━━━━━━━━━━━━━━━━━━━━\u001b[0m\u001b[37m\u001b[0m \u001b[1m265s\u001b[0m 2s/step - accuracy: 0.9351 - loss: 0.1671\n"
     ]
    }
   ],
   "source": [
    "history3=model_pneumonia3.fit(train_ds, epochs=15  , verbose=1)"
   ]
  },
  {
   "cell_type": "code",
   "execution_count": 34,
   "id": "5c3090a9",
   "metadata": {},
   "outputs": [
    {
     "data": {
      "text/plain": [
       "[<matplotlib.lines.Line2D at 0x11ecd267550>]"
      ]
     },
     "execution_count": 34,
     "metadata": {},
     "output_type": "execute_result"
    },
    {
     "data": {
      "image/png": "[encoded data removed]",
      "text/plain": [
       "<Figure size 640x480 with 1 Axes>"
      ]
     },
     "metadata": {},
     "output_type": "display_data"
    }
   ],
   "source": [
    "plt.plot(history3.history['accuracy'])"
   ]
  },
  {
   "cell_type": "code",
   "execution_count": 35,
   "id": "007c199a",
   "metadata": {},
   "outputs": [
    {
     "name": "stdout",
     "output_type": "stream",
     "text": [
      "\u001b[1m16/16\u001b[0m \u001b[32m━━━━━━━━━━━━━━━━━━━━\u001b[0m\u001b[37m\u001b[0m \u001b[1m10s\u001b[0m 509ms/step\n"
     ]
    },
    {
     "data": {
      "text/plain": [
       "array([[0.01118762, 0.98881245],\n",
       "       [0.99560034, 0.00439964],\n",
       "       [0.00239756, 0.9976025 ],\n",
       "       ...,\n",
       "       [0.00114478, 0.99885523],\n",
       "       [0.00361324, 0.99638677],\n",
       "       [0.01235693, 0.9876431 ]], dtype=float32)"
      ]
     },
     "execution_count": 35,
     "metadata": {},
     "output_type": "execute_result"
    }
   ],
   "source": [
    "pred_test3=model_pneumonia3.predict(test_ds)\n",
    "pred_test3"
   ]
  },
  {
   "cell_type": "code",
   "execution_count": null,
   "id": "368db3c2",
   "metadata": {},
   "outputs": [],
   "source": []
  },
  {
   "cell_type": "code",
   "execution_count": null,
   "id": "5727ae20",
   "metadata": {},
   "outputs": [],
   "source": []
  },
  {
   "cell_type": "code",
   "execution_count": null,
   "id": "108cdfc1",
   "metadata": {},
   "outputs": [],
   "source": []
  },
  {
   "cell_type": "code",
   "execution_count": null,
   "id": "c0d3276b",
   "metadata": {},
   "outputs": [],
   "source": []
  },
  {
   "cell_type": "code",
   "execution_count": null,
   "id": "ec7b5271",
   "metadata": {},
   "outputs": [],
   "source": []
  },
  {
   "cell_type": "code",
   "execution_count": null,
   "id": "3c86fcc0",
   "metadata": {},
   "outputs": [],
   "source": []
  },
  {
   "cell_type": "code",
   "execution_count": null,
   "id": "e9fc1006",
   "metadata": {},
   "outputs": [],
   "source": [
    "history3=model_pneumonia3.fit(train_ds, epochs=20  , verbose=1)"
   ]
  },
  {
   "cell_type": "code",
   "execution_count": null,
   "id": "127aa60e",
   "metadata": {},
   "outputs": [],
   "source": [
    "plt.plot(history3.history['accuracy'])"
   ]
  }
 ],
 "metadata": {
  "kernelspec": {
   "display_name": "Python 3 (ipykernel)",
   "language": "python",
   "name": "python3"
  },
  "language_info": {
   "codemirror_mode": {
    "name": "ipython",
    "version": 3
   },
   "file_extension": ".py",
   "mimetype": "text/x-python",
   "name": "python",
   "nbconvert_exporter": "python",
   "pygments_lexer": "ipython3",
   "version": "3.12.4"
  }
 },
 "nbformat": 4,
 "nbformat_minor": 5
}
