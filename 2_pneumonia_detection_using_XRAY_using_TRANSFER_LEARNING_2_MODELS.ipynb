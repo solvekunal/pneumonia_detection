{
 "cells": [
  {
   "cell_type": "code",
   "execution_count": 1,
   "id": "002f5bba",
   "metadata": {},
   "outputs": [],
   "source": [
    "import numpy as np\n",
    "import pandas as pd\n",
    "\n",
    "import matplotlib.pyplot as plt\n",
    "\n",
    "import cv2\n",
    "import os\n",
    "import tensorflow as tf\n",
    "import keras"
   ]
  },
  {
   "cell_type": "code",
   "execution_count": 2,
   "id": "f5f67a28",
   "metadata": {},
   "outputs": [
    {
     "name": "stdout",
     "output_type": "stream",
     "text": [
      "NORMAL\n",
      "PNEUMONIA\n"
     ]
    }
   ],
   "source": [
    "path=r'E:\\AI\\dataset_for_image_classification\\chest_x_ray_pneumonia_dataset\\chest_xray\\train'\n",
    "\n",
    "x=[]\n",
    "y=[]\n",
    "\n",
    "for i in os.listdir(path):\n",
    "    print(i)\n",
    "    for j in os.listdir(os.path.join(path,i)):\n",
    "        images=cv2.imread(os.path.join(path,i,j))\n",
    "        images=cv2.resize(images,(100,100))\n",
    "        x.append(images)\n",
    "        y.append(i)"
   ]
  },
  {
   "cell_type": "code",
   "execution_count": 3,
   "id": "31e6d4f6",
   "metadata": {},
   "outputs": [],
   "source": [
    "x=np.array(x)\n",
    "y=np.array(y)"
   ]
  },
  {
   "cell_type": "code",
   "execution_count": 4,
   "id": "d9629cd1",
   "metadata": {},
   "outputs": [
    {
     "data": {
      "text/plain": [
       "((3714, 100, 100, 3), (3714,))"
      ]
     },
     "execution_count": 4,
     "metadata": {},
     "output_type": "execute_result"
    }
   ],
   "source": [
    "x.shape , y.shape"
   ]
  },
  {
   "cell_type": "code",
   "execution_count": 5,
   "id": "ddda8d4c",
   "metadata": {
    "scrolled": true
   },
   "outputs": [
    {
     "data": {
      "text/plain": [
       "array([[[[22., 22., 22.],\n",
       "         [18., 18., 18.],\n",
       "         [24., 24., 24.],\n",
       "         ...,\n",
       "         [94., 94., 94.],\n",
       "         [93., 93., 93.],\n",
       "         [93., 93., 93.]],\n",
       "\n",
       "        [[19., 19., 19.],\n",
       "         [20., 20., 20.],\n",
       "         [14., 14., 14.],\n",
       "         ...,\n",
       "         [97., 97., 97.],\n",
       "         [93., 93., 93.],\n",
       "         [90., 90., 90.]],\n",
       "\n",
       "        [[20., 20., 20.],\n",
       "         [19., 19., 19.],\n",
       "         [15., 15., 15.],\n",
       "         ...,\n",
       "         [94., 94., 94.],\n",
       "         [91., 91., 91.],\n",
       "         [88., 88., 88.]],\n",
       "\n",
       "        ...,\n",
       "\n",
       "        [[29., 29., 29.],\n",
       "         [29., 29., 29.],\n",
       "         [29., 29., 29.],\n",
       "         ...,\n",
       "         [21., 21., 21.],\n",
       "         [23., 23., 23.],\n",
       "         [24., 24., 24.]],\n",
       "\n",
       "        [[30., 30., 30.],\n",
       "         [27., 27., 27.],\n",
       "         [26., 26., 26.],\n",
       "         ...,\n",
       "         [43., 43., 43.],\n",
       "         [46., 46., 46.],\n",
       "         [45., 45., 45.]],\n",
       "\n",
       "        [[38., 38., 38.],\n",
       "         [36., 36., 36.],\n",
       "         [37., 37., 37.],\n",
       "         ...,\n",
       "         [86., 86., 86.],\n",
       "         [89., 89., 89.],\n",
       "         [91., 91., 91.]]],\n",
       "\n",
       "\n",
       "       [[[18., 18., 18.],\n",
       "         [31., 31., 31.],\n",
       "         [35., 35., 35.],\n",
       "         ...,\n",
       "         [38., 38., 38.],\n",
       "         [28., 28., 28.],\n",
       "         [21., 21., 21.]],\n",
       "\n",
       "        [[20., 20., 20.],\n",
       "         [33., 33., 33.],\n",
       "         [39., 39., 39.],\n",
       "         ...,\n",
       "         [30., 30., 30.],\n",
       "         [27., 27., 27.],\n",
       "         [21., 21., 21.]],\n",
       "\n",
       "        [[18., 18., 18.],\n",
       "         [31., 31., 31.],\n",
       "         [38., 38., 38.],\n",
       "         ...,\n",
       "         [33., 33., 33.],\n",
       "         [30., 30., 30.],\n",
       "         [17., 17., 17.]],\n",
       "\n",
       "        ...,\n",
       "\n",
       "        [[ 0.,  0.,  0.],\n",
       "         [ 0.,  0.,  0.],\n",
       "         [ 0.,  0.,  0.],\n",
       "         ...,\n",
       "         [ 0.,  0.,  0.],\n",
       "         [ 0.,  0.,  0.],\n",
       "         [ 0.,  0.,  0.]],\n",
       "\n",
       "        [[ 0.,  0.,  0.],\n",
       "         [ 0.,  0.,  0.],\n",
       "         [ 0.,  0.,  0.],\n",
       "         ...,\n",
       "         [ 0.,  0.,  0.],\n",
       "         [ 0.,  0.,  0.],\n",
       "         [ 0.,  0.,  0.]],\n",
       "\n",
       "        [[ 0.,  0.,  0.],\n",
       "         [ 0.,  0.,  0.],\n",
       "         [ 0.,  0.,  0.],\n",
       "         ...,\n",
       "         [ 0.,  0.,  0.],\n",
       "         [ 0.,  0.,  0.],\n",
       "         [ 0.,  0.,  0.]]],\n",
       "\n",
       "\n",
       "       [[[ 0.,  0.,  0.],\n",
       "         [ 0.,  0.,  0.],\n",
       "         [27., 27., 27.],\n",
       "         ...,\n",
       "         [41., 41., 41.],\n",
       "         [28., 28., 28.],\n",
       "         [ 0.,  0.,  0.]],\n",
       "\n",
       "        [[ 0.,  0.,  0.],\n",
       "         [ 0.,  0.,  0.],\n",
       "         [19., 19., 19.],\n",
       "         ...,\n",
       "         [37., 37., 37.],\n",
       "         [24., 24., 24.],\n",
       "         [ 0.,  0.,  0.]],\n",
       "\n",
       "        [[ 0.,  0.,  0.],\n",
       "         [ 0.,  0.,  0.],\n",
       "         [14., 14., 14.],\n",
       "         ...,\n",
       "         [32., 32., 32.],\n",
       "         [ 7.,  7.,  7.],\n",
       "         [ 0.,  0.,  0.]],\n",
       "\n",
       "        ...,\n",
       "\n",
       "        [[ 0.,  0.,  0.],\n",
       "         [ 0.,  0.,  0.],\n",
       "         [ 0.,  0.,  0.],\n",
       "         ...,\n",
       "         [ 0.,  0.,  0.],\n",
       "         [ 0.,  0.,  0.],\n",
       "         [ 0.,  0.,  0.]],\n",
       "\n",
       "        [[ 0.,  0.,  0.],\n",
       "         [ 0.,  0.,  0.],\n",
       "         [ 0.,  0.,  0.],\n",
       "         ...,\n",
       "         [ 0.,  0.,  0.],\n",
       "         [ 0.,  0.,  0.],\n",
       "         [ 0.,  0.,  0.]],\n",
       "\n",
       "        [[ 0.,  0.,  0.],\n",
       "         [ 0.,  0.,  0.],\n",
       "         [ 0.,  0.,  0.],\n",
       "         ...,\n",
       "         [ 0.,  0.,  0.],\n",
       "         [ 0.,  0.,  0.],\n",
       "         [ 2.,  2.,  2.]]],\n",
       "\n",
       "\n",
       "       ...,\n",
       "\n",
       "\n",
       "       [[[26., 26., 26.],\n",
       "         [24., 24., 24.],\n",
       "         [ 2.,  2.,  2.],\n",
       "         ...,\n",
       "         [44., 44., 44.],\n",
       "         [25., 25., 25.],\n",
       "         [ 7.,  7.,  7.]],\n",
       "\n",
       "        [[29., 29., 29.],\n",
       "         [28., 28., 28.],\n",
       "         [25., 25., 25.],\n",
       "         ...,\n",
       "         [49., 49., 49.],\n",
       "         [42., 42., 42.],\n",
       "         [46., 46., 46.]],\n",
       "\n",
       "        [[31., 31., 31.],\n",
       "         [29., 29., 29.],\n",
       "         [27., 27., 27.],\n",
       "         ...,\n",
       "         [27., 27., 27.],\n",
       "         [20., 20., 20.],\n",
       "         [34., 34., 34.]],\n",
       "\n",
       "        ...,\n",
       "\n",
       "        [[ 6.,  6.,  6.],\n",
       "         [ 7.,  7.,  7.],\n",
       "         [ 3.,  3.,  3.],\n",
       "         ...,\n",
       "         [53., 53., 53.],\n",
       "         [44., 44., 44.],\n",
       "         [11., 11., 11.]],\n",
       "\n",
       "        [[ 9.,  9.,  9.],\n",
       "         [ 5.,  5.,  5.],\n",
       "         [ 6.,  6.,  6.],\n",
       "         ...,\n",
       "         [53., 53., 53.],\n",
       "         [44., 44., 44.],\n",
       "         [23., 23., 23.]],\n",
       "\n",
       "        [[ 9.,  9.,  9.],\n",
       "         [ 7.,  7.,  7.],\n",
       "         [ 8.,  8.,  8.],\n",
       "         ...,\n",
       "         [55., 55., 55.],\n",
       "         [46., 46., 46.],\n",
       "         [26., 26., 26.]]],\n",
       "\n",
       "\n",
       "       [[[32., 32., 32.],\n",
       "         [44., 44., 44.],\n",
       "         [35., 35., 35.],\n",
       "         ...,\n",
       "         [65., 65., 65.],\n",
       "         [63., 63., 63.],\n",
       "         [67., 67., 67.]],\n",
       "\n",
       "        [[39., 39., 39.],\n",
       "         [46., 46., 46.],\n",
       "         [56., 56., 56.],\n",
       "         ...,\n",
       "         [75., 75., 75.],\n",
       "         [68., 68., 68.],\n",
       "         [68., 68., 68.]],\n",
       "\n",
       "        [[63., 63., 63.],\n",
       "         [60., 60., 60.],\n",
       "         [55., 55., 55.],\n",
       "         ...,\n",
       "         [95., 95., 95.],\n",
       "         [90., 90., 90.],\n",
       "         [74., 74., 74.]],\n",
       "\n",
       "        ...,\n",
       "\n",
       "        [[21., 21., 21.],\n",
       "         [20., 20., 20.],\n",
       "         [18., 18., 18.],\n",
       "         ...,\n",
       "         [25., 25., 25.],\n",
       "         [28., 28., 28.],\n",
       "         [28., 28., 28.]],\n",
       "\n",
       "        [[20., 20., 20.],\n",
       "         [21., 21., 21.],\n",
       "         [18., 18., 18.],\n",
       "         ...,\n",
       "         [25., 25., 25.],\n",
       "         [25., 25., 25.],\n",
       "         [27., 27., 27.]],\n",
       "\n",
       "        [[21., 21., 21.],\n",
       "         [20., 20., 20.],\n",
       "         [18., 18., 18.],\n",
       "         ...,\n",
       "         [23., 23., 23.],\n",
       "         [23., 23., 23.],\n",
       "         [26., 26., 26.]]],\n",
       "\n",
       "\n",
       "       [[[14., 14., 14.],\n",
       "         [ 7.,  7.,  7.],\n",
       "         [ 6.,  6.,  6.],\n",
       "         ...,\n",
       "         [21., 21., 21.],\n",
       "         [24., 24., 24.],\n",
       "         [40., 40., 40.]],\n",
       "\n",
       "        [[ 7.,  7.,  7.],\n",
       "         [12., 12., 12.],\n",
       "         [ 5.,  5.,  5.],\n",
       "         ...,\n",
       "         [17., 17., 17.],\n",
       "         [21., 21., 21.],\n",
       "         [30., 30., 30.]],\n",
       "\n",
       "        [[ 3.,  3.,  3.],\n",
       "         [ 1.,  1.,  1.],\n",
       "         [28., 28., 28.],\n",
       "         ...,\n",
       "         [16., 16., 16.],\n",
       "         [23., 23., 23.],\n",
       "         [23., 23., 23.]],\n",
       "\n",
       "        ...,\n",
       "\n",
       "        [[ 8.,  8.,  8.],\n",
       "         [ 6.,  6.,  6.],\n",
       "         [37., 37., 37.],\n",
       "         ...,\n",
       "         [14., 14., 14.],\n",
       "         [13., 13., 13.],\n",
       "         [13., 13., 13.]],\n",
       "\n",
       "        [[14., 14., 14.],\n",
       "         [ 4.,  4.,  4.],\n",
       "         [43., 43., 43.],\n",
       "         ...,\n",
       "         [13., 13., 13.],\n",
       "         [14., 14., 14.],\n",
       "         [19., 19., 19.]],\n",
       "\n",
       "        [[ 7.,  7.,  7.],\n",
       "         [ 2.,  2.,  2.],\n",
       "         [39., 39., 39.],\n",
       "         ...,\n",
       "         [12., 12., 12.],\n",
       "         [12., 12., 12.],\n",
       "         [13., 13., 13.]]]], dtype=float32)"
      ]
     },
     "execution_count": 5,
     "metadata": {},
     "output_type": "execute_result"
    }
   ],
   "source": [
    "x=x.astype('float32')\n",
    "x"
   ]
  },
  {
   "cell_type": "code",
   "execution_count": 6,
   "id": "1b39e410",
   "metadata": {},
   "outputs": [],
   "source": [
    "y=pd.get_dummies(y, dtype='uint8')"
   ]
  },
  {
   "cell_type": "code",
   "execution_count": 7,
   "id": "0e008fb9",
   "metadata": {},
   "outputs": [],
   "source": [
    "from sklearn.model_selection import train_test_split"
   ]
  },
  {
   "cell_type": "code",
   "execution_count": 8,
   "id": "02b40846",
   "metadata": {},
   "outputs": [],
   "source": [
    "train_x,test_x, train_y,test_y= train_test_split(x,y,random_state=1,test_size=0.3)"
   ]
  },
  {
   "cell_type": "code",
   "execution_count": 9,
   "id": "68c813a0",
   "metadata": {},
   "outputs": [
    {
     "data": {
      "text/plain": [
       "((2599, 100, 100, 3), (2599, 2))"
      ]
     },
     "execution_count": 9,
     "metadata": {},
     "output_type": "execute_result"
    }
   ],
   "source": [
    "train_x.shape , train_y.shape"
   ]
  },
  {
   "cell_type": "code",
   "execution_count": 10,
   "id": "b5c10bba",
   "metadata": {},
   "outputs": [
    {
     "data": {
      "text/plain": [
       "((1115, 100, 100, 3), (1115, 2))"
      ]
     },
     "execution_count": 10,
     "metadata": {},
     "output_type": "execute_result"
    }
   ],
   "source": [
    "test_x.shape, test_y.shape"
   ]
  },
  {
   "cell_type": "code",
   "execution_count": 11,
   "id": "2ab6bf72",
   "metadata": {},
   "outputs": [],
   "source": [
    "from tensorflow.keras.applications import VGG16"
   ]
  },
  {
   "cell_type": "code",
   "execution_count": 20,
   "id": "b433948b",
   "metadata": {},
   "outputs": [
    {
     "data": {
      "text/plain": [
       "<Functional name=vgg16, built=True>"
      ]
     },
     "execution_count": 20,
     "metadata": {},
     "output_type": "execute_result"
    }
   ],
   "source": [
    "vgg_conv=VGG16(weights='imagenet', include_top=False, input_shape=(100,100,3))\n",
    "vgg_conv"
   ]
  },
  {
   "cell_type": "code",
   "execution_count": 21,
   "id": "d6f0b8bc",
   "metadata": {},
   "outputs": [],
   "source": [
    "for layer in vgg_conv.layers[:-5]:\n",
    "    layer.trainable=False"
   ]
  },
  {
   "cell_type": "code",
   "execution_count": 22,
   "id": "23aed42f",
   "metadata": {},
   "outputs": [],
   "source": [
    "from tensorflow.keras.models import Sequential\n",
    "\n",
    "from tensorflow.keras.layers import Convolution2D,Dropout,Dense,Flatten,BatchNormalization,MaxPooling2D"
   ]
  },
  {
   "cell_type": "code",
   "execution_count": 23,
   "id": "44c2a83c",
   "metadata": {},
   "outputs": [],
   "source": [
    "model4=Sequential()\n",
    "\n",
    "model4.add(vgg_conv)\n",
    "model4.add(Flatten())\n",
    "\n",
    "model4.add(Dense(512,'relu'))\n",
    "model4.add(Dropout(0.3))\n",
    "\n",
    "model4.add(Dense(256,'relu'))\n",
    "model4.add(Dropout(0.3))\n",
    "\n",
    "model4.add(Dense(128,'relu'))\n",
    "model4.add(Dropout(0.3))\n",
    "\n",
    "model4.add(Dense(64,'relu'))\n",
    "model4.add(Dropout(0.3))\n",
    "\n",
    "model4.add(Dense(2,'softmax'))"
   ]
  },
  {
   "cell_type": "code",
   "execution_count": 24,
   "id": "00e79838",
   "metadata": {},
   "outputs": [],
   "source": [
    "from tensorflow.keras.optimizers import RMSprop"
   ]
  },
  {
   "cell_type": "code",
   "execution_count": 25,
   "id": "aa711840",
   "metadata": {
    "scrolled": true
   },
   "outputs": [],
   "source": [
    "model4.compile(loss='categorical_crossentropy',\n",
    "                     metrics=['accuracy'],\n",
    "                     optimizer=RMSprop(learning_rate=0.001))"
   ]
  },
  {
   "cell_type": "code",
   "execution_count": 26,
   "id": "d3b63ec9",
   "metadata": {},
   "outputs": [],
   "source": [
    "import time"
   ]
  },
  {
   "cell_type": "code",
   "execution_count": 27,
   "id": "402ab730",
   "metadata": {
    "scrolled": true
   },
   "outputs": [
    {
     "name": "stdout",
     "output_type": "stream",
     "text": [
      "Epoch 1/20\n",
      "\u001b[1m13/13\u001b[0m \u001b[32m━━━━━━━━━━━━━━━━━━━━\u001b[0m\u001b[37m\u001b[0m \u001b[1m243s\u001b[0m 19s/step - accuracy: 0.5238 - loss: 45.3920 - val_accuracy: 0.6143 - val_loss: 0.6895\n",
      "Epoch 2/20\n",
      "\u001b[1m13/13\u001b[0m \u001b[32m━━━━━━━━━━━━━━━━━━━━\u001b[0m\u001b[37m\u001b[0m \u001b[1m240s\u001b[0m 19s/step - accuracy: 0.6296 - loss: 0.6836 - val_accuracy: 0.6143 - val_loss: 0.6741\n",
      "Epoch 3/20\n",
      "\u001b[1m13/13\u001b[0m \u001b[32m━━━━━━━━━━━━━━━━━━━━\u001b[0m\u001b[37m\u001b[0m \u001b[1m237s\u001b[0m 19s/step - accuracy: 0.6526 - loss: 0.6630 - val_accuracy: 0.6143 - val_loss: 0.6680\n",
      "Epoch 4/20\n",
      "\u001b[1m13/13\u001b[0m \u001b[32m━━━━━━━━━━━━━━━━━━━━\u001b[0m\u001b[37m\u001b[0m \u001b[1m236s\u001b[0m 19s/step - accuracy: 0.6528 - loss: 0.6535 - val_accuracy: 0.6143 - val_loss: 0.6669\n",
      "Epoch 5/20\n",
      "\u001b[1m13/13\u001b[0m \u001b[32m━━━━━━━━━━━━━━━━━━━━\u001b[0m\u001b[37m\u001b[0m \u001b[1m238s\u001b[0m 19s/step - accuracy: 0.6434 - loss: 0.6538 - val_accuracy: 0.6143 - val_loss: 0.6680\n",
      "Epoch 6/20\n",
      "\u001b[1m13/13\u001b[0m \u001b[32m━━━━━━━━━━━━━━━━━━━━\u001b[0m\u001b[37m\u001b[0m \u001b[1m236s\u001b[0m 19s/step - accuracy: 0.6587 - loss: 0.6420 - val_accuracy: 0.6143 - val_loss: 0.6687\n",
      "Epoch 7/20\n",
      "\u001b[1m13/13\u001b[0m \u001b[32m━━━━━━━━━━━━━━━━━━━━\u001b[0m\u001b[37m\u001b[0m \u001b[1m236s\u001b[0m 19s/step - accuracy: 0.6545 - loss: 0.6439 - val_accuracy: 0.6143 - val_loss: 0.6695\n",
      "Epoch 8/20\n",
      "\u001b[1m13/13\u001b[0m \u001b[32m━━━━━━━━━━━━━━━━━━━━\u001b[0m\u001b[37m\u001b[0m \u001b[1m255s\u001b[0m 18s/step - accuracy: 0.6496 - loss: 0.6470 - val_accuracy: 0.6143 - val_loss: 0.6694\n",
      "Epoch 9/20\n",
      "\u001b[1m13/13\u001b[0m \u001b[32m━━━━━━━━━━━━━━━━━━━━\u001b[0m\u001b[37m\u001b[0m \u001b[1m233s\u001b[0m 18s/step - accuracy: 0.6489 - loss: 0.6480 - val_accuracy: 0.6143 - val_loss: 0.6697\n",
      "Epoch 10/20\n",
      "\u001b[1m13/13\u001b[0m \u001b[32m━━━━━━━━━━━━━━━━━━━━\u001b[0m\u001b[37m\u001b[0m \u001b[1m237s\u001b[0m 19s/step - accuracy: 0.6488 - loss: 0.6490 - val_accuracy: 0.6143 - val_loss: 0.6697\n",
      "Epoch 11/20\n",
      "\u001b[1m13/13\u001b[0m \u001b[32m━━━━━━━━━━━━━━━━━━━━\u001b[0m\u001b[37m\u001b[0m \u001b[1m236s\u001b[0m 19s/step - accuracy: 0.6499 - loss: 0.6488 - val_accuracy: 0.6143 - val_loss: 0.6699\n",
      "Epoch 12/20\n",
      "\u001b[1m13/13\u001b[0m \u001b[32m━━━━━━━━━━━━━━━━━━━━\u001b[0m\u001b[37m\u001b[0m \u001b[1m231s\u001b[0m 18s/step - accuracy: 0.6536 - loss: 0.6483 - val_accuracy: 0.6143 - val_loss: 0.6682\n",
      "Epoch 13/20\n",
      "\u001b[1m13/13\u001b[0m \u001b[32m━━━━━━━━━━━━━━━━━━━━\u001b[0m\u001b[37m\u001b[0m \u001b[1m229s\u001b[0m 18s/step - accuracy: 0.6446 - loss: 0.6522 - val_accuracy: 0.6143 - val_loss: 0.6687\n",
      "Epoch 14/20\n",
      "\u001b[1m13/13\u001b[0m \u001b[32m━━━━━━━━━━━━━━━━━━━━\u001b[0m\u001b[37m\u001b[0m \u001b[1m229s\u001b[0m 18s/step - accuracy: 0.6461 - loss: 0.6493 - val_accuracy: 0.6143 - val_loss: 0.6689\n",
      "Epoch 15/20\n",
      "\u001b[1m13/13\u001b[0m \u001b[32m━━━━━━━━━━━━━━━━━━━━\u001b[0m\u001b[37m\u001b[0m \u001b[1m231s\u001b[0m 18s/step - accuracy: 0.6482 - loss: 0.6478 - val_accuracy: 0.6143 - val_loss: 0.6688\n",
      "Epoch 16/20\n",
      "\u001b[1m13/13\u001b[0m \u001b[32m━━━━━━━━━━━━━━━━━━━━\u001b[0m\u001b[37m\u001b[0m \u001b[1m230s\u001b[0m 18s/step - accuracy: 0.6538 - loss: 0.6465 - val_accuracy: 0.6143 - val_loss: 0.6694\n",
      "Epoch 17/20\n",
      "\u001b[1m13/13\u001b[0m \u001b[32m━━━━━━━━━━━━━━━━━━━━\u001b[0m\u001b[37m\u001b[0m \u001b[1m13983s\u001b[0m 1164s/step - accuracy: 0.6469 - loss: 0.6495 - val_accuracy: 0.6143 - val_loss: 0.6690\n",
      "Epoch 18/20\n",
      "\u001b[1m13/13\u001b[0m \u001b[32m━━━━━━━━━━━━━━━━━━━━\u001b[0m\u001b[37m\u001b[0m \u001b[1m288s\u001b[0m 23s/step - accuracy: 0.6582 - loss: 0.6429 - val_accuracy: 0.6143 - val_loss: 0.6688\n",
      "Epoch 19/20\n",
      "\u001b[1m13/13\u001b[0m \u001b[32m━━━━━━━━━━━━━━━━━━━━\u001b[0m\u001b[37m\u001b[0m \u001b[1m284s\u001b[0m 22s/step - accuracy: 0.6564 - loss: 0.6442 - val_accuracy: 0.6143 - val_loss: 0.6681\n",
      "Epoch 20/20\n",
      "\u001b[1m13/13\u001b[0m \u001b[32m━━━━━━━━━━━━━━━━━━━━\u001b[0m\u001b[37m\u001b[0m \u001b[1m294s\u001b[0m 23s/step - accuracy: 0.6625 - loss: 0.6413 - val_accuracy: 0.6143 - val_loss: 0.6682\n"
     ]
    }
   ],
   "source": [
    "start_time4=time.time()\n",
    "\n",
    "history4=model4.fit(train_x, train_y, validation_data=(test_x,test_y), epochs=20, batch_size=200, verbose=1)\n",
    "\n",
    "end_time4=time.time()"
   ]
  },
  {
   "cell_type": "code",
   "execution_count": null,
   "id": "66812d9a",
   "metadata": {},
   "outputs": [],
   "source": []
  },
  {
   "cell_type": "code",
   "execution_count": null,
   "id": "dd58ca60",
   "metadata": {},
   "outputs": [],
   "source": []
  },
  {
   "cell_type": "code",
   "execution_count": null,
   "id": "dd3156c2",
   "metadata": {},
   "outputs": [],
   "source": []
  },
  {
   "cell_type": "code",
   "execution_count": null,
   "id": "6b8b4a81",
   "metadata": {},
   "outputs": [],
   "source": []
  },
  {
   "cell_type": "code",
   "execution_count": null,
   "id": "6723c892",
   "metadata": {},
   "outputs": [],
   "source": []
  },
  {
   "cell_type": "code",
   "execution_count": null,
   "id": "e7ded961",
   "metadata": {},
   "outputs": [],
   "source": []
  },
  {
   "cell_type": "markdown",
   "id": "7070babf",
   "metadata": {},
   "source": [
    "# in this VGG16 , i am just  taking the vgg16 model architecture  without dense layers and then adding our own dense layers."
   ]
  },
  {
   "cell_type": "code",
   "execution_count": 34,
   "id": "7795148f",
   "metadata": {},
   "outputs": [
    {
     "data": {
      "text/plain": [
       "<Functional name=vgg16, built=True>"
      ]
     },
     "execution_count": 34,
     "metadata": {},
     "output_type": "execute_result"
    }
   ],
   "source": [
    "vgg_conv=VGG16(include_top=False, input_shape=(100,100,3))\n",
    "vgg_conv"
   ]
  },
  {
   "cell_type": "code",
   "execution_count": 38,
   "id": "e9f5574d",
   "metadata": {},
   "outputs": [],
   "source": [
    "model41=Sequential()\n",
    "\n",
    "model41.add(vgg_conv)\n",
    "model41.add(Flatten())\n",
    "\n",
    "model41.add(Dense(512,'relu'))\n",
    "model41.add(Dropout(0.3))\n",
    "\n",
    "model41.add(Dense(256,'relu'))\n",
    "model41.add(Dropout(0.3))\n",
    "\n",
    "model41.add(Dense(128,'relu'))\n",
    "model41.add(Dropout(0.3))\n",
    "\n",
    "model41.add(Dense(32,'relu'))\n",
    "model41.add(Dropout(0.3))\n",
    "\n",
    "model41.add(Dense(2,'softmax'))"
   ]
  },
  {
   "cell_type": "code",
   "execution_count": 39,
   "id": "d13d2662",
   "metadata": {},
   "outputs": [],
   "source": [
    "model41.compile(loss='categorical_crossentropy',\n",
    "                     metrics=['accuracy'],\n",
    "                     optimizer='adam')"
   ]
  },
  {
   "cell_type": "code",
   "execution_count": 40,
   "id": "5807d853",
   "metadata": {},
   "outputs": [
    {
     "data": {
      "text/html": [
       "<pre style=\"white-space:pre;overflow-x:auto;line-height:normal;font-family:Menlo,'DejaVu Sans Mono',consolas,'Courier New',monospace\"><span style=\"font-weight: bold\">Model: \"sequential_4\"</span>\n",
       "</pre>\n"
      ],
      "text/plain": [
       "\u001b[1mModel: \"sequential_4\"\u001b[0m\n"
      ]
     },
     "metadata": {},
     "output_type": "display_data"
    },
    {
     "data": {
      "text/html": [
       "<pre style=\"white-space:pre;overflow-x:auto;line-height:normal;font-family:Menlo,'DejaVu Sans Mono',consolas,'Courier New',monospace\">┏━━━━━━━━━━━━━━━━━━━━━━━━━━━━━━━━━┳━━━━━━━━━━━━━━━━━━━━━━━━┳━━━━━━━━━━━━━━━┓\n",
       "┃<span style=\"font-weight: bold\"> Layer (type)                    </span>┃<span style=\"font-weight: bold\"> Output Shape           </span>┃<span style=\"font-weight: bold\">       Param # </span>┃\n",
       "┡━━━━━━━━━━━━━━━━━━━━━━━━━━━━━━━━━╇━━━━━━━━━━━━━━━━━━━━━━━━╇━━━━━━━━━━━━━━━┩\n",
       "│ vgg16 (<span style=\"color: #0087ff; text-decoration-color: #0087ff\">Functional</span>)              │ ?                      │    <span style=\"color: #00af00; text-decoration-color: #00af00\">14,714,688</span> │\n",
       "├─────────────────────────────────┼────────────────────────┼───────────────┤\n",
       "│ flatten_4 (<span style=\"color: #0087ff; text-decoration-color: #0087ff\">Flatten</span>)             │ ?                      │   <span style=\"color: #00af00; text-decoration-color: #00af00\">0</span> (unbuilt) │\n",
       "├─────────────────────────────────┼────────────────────────┼───────────────┤\n",
       "│ dense_20 (<span style=\"color: #0087ff; text-decoration-color: #0087ff\">Dense</span>)                │ ?                      │   <span style=\"color: #00af00; text-decoration-color: #00af00\">0</span> (unbuilt) │\n",
       "├─────────────────────────────────┼────────────────────────┼───────────────┤\n",
       "│ dropout_16 (<span style=\"color: #0087ff; text-decoration-color: #0087ff\">Dropout</span>)            │ ?                      │   <span style=\"color: #00af00; text-decoration-color: #00af00\">0</span> (unbuilt) │\n",
       "├─────────────────────────────────┼────────────────────────┼───────────────┤\n",
       "│ dense_21 (<span style=\"color: #0087ff; text-decoration-color: #0087ff\">Dense</span>)                │ ?                      │   <span style=\"color: #00af00; text-decoration-color: #00af00\">0</span> (unbuilt) │\n",
       "├─────────────────────────────────┼────────────────────────┼───────────────┤\n",
       "│ dropout_17 (<span style=\"color: #0087ff; text-decoration-color: #0087ff\">Dropout</span>)            │ ?                      │   <span style=\"color: #00af00; text-decoration-color: #00af00\">0</span> (unbuilt) │\n",
       "├─────────────────────────────────┼────────────────────────┼───────────────┤\n",
       "│ dense_22 (<span style=\"color: #0087ff; text-decoration-color: #0087ff\">Dense</span>)                │ ?                      │   <span style=\"color: #00af00; text-decoration-color: #00af00\">0</span> (unbuilt) │\n",
       "├─────────────────────────────────┼────────────────────────┼───────────────┤\n",
       "│ dropout_18 (<span style=\"color: #0087ff; text-decoration-color: #0087ff\">Dropout</span>)            │ ?                      │   <span style=\"color: #00af00; text-decoration-color: #00af00\">0</span> (unbuilt) │\n",
       "├─────────────────────────────────┼────────────────────────┼───────────────┤\n",
       "│ dense_23 (<span style=\"color: #0087ff; text-decoration-color: #0087ff\">Dense</span>)                │ ?                      │   <span style=\"color: #00af00; text-decoration-color: #00af00\">0</span> (unbuilt) │\n",
       "├─────────────────────────────────┼────────────────────────┼───────────────┤\n",
       "│ dropout_19 (<span style=\"color: #0087ff; text-decoration-color: #0087ff\">Dropout</span>)            │ ?                      │   <span style=\"color: #00af00; text-decoration-color: #00af00\">0</span> (unbuilt) │\n",
       "├─────────────────────────────────┼────────────────────────┼───────────────┤\n",
       "│ dense_24 (<span style=\"color: #0087ff; text-decoration-color: #0087ff\">Dense</span>)                │ ?                      │   <span style=\"color: #00af00; text-decoration-color: #00af00\">0</span> (unbuilt) │\n",
       "└─────────────────────────────────┴────────────────────────┴───────────────┘\n",
       "</pre>\n"
      ],
      "text/plain": [
       "┏━━━━━━━━━━━━━━━━━━━━━━━━━━━━━━━━━┳━━━━━━━━━━━━━━━━━━━━━━━━┳━━━━━━━━━━━━━━━┓\n",
       "┃\u001b[1m \u001b[0m\u001b[1mLayer (type)                   \u001b[0m\u001b[1m \u001b[0m┃\u001b[1m \u001b[0m\u001b[1mOutput Shape          \u001b[0m\u001b[1m \u001b[0m┃\u001b[1m \u001b[0m\u001b[1m      Param #\u001b[0m\u001b[1m \u001b[0m┃\n",
       "┡━━━━━━━━━━━━━━━━━━━━━━━━━━━━━━━━━╇━━━━━━━━━━━━━━━━━━━━━━━━╇━━━━━━━━━━━━━━━┩\n",
       "│ vgg16 (\u001b[38;5;33mFunctional\u001b[0m)              │ ?                      │    \u001b[38;5;34m14,714,688\u001b[0m │\n",
       "├─────────────────────────────────┼────────────────────────┼───────────────┤\n",
       "│ flatten_4 (\u001b[38;5;33mFlatten\u001b[0m)             │ ?                      │   \u001b[38;5;34m0\u001b[0m (unbuilt) │\n",
       "├─────────────────────────────────┼────────────────────────┼───────────────┤\n",
       "│ dense_20 (\u001b[38;5;33mDense\u001b[0m)                │ ?                      │   \u001b[38;5;34m0\u001b[0m (unbuilt) │\n",
       "├─────────────────────────────────┼────────────────────────┼───────────────┤\n",
       "│ dropout_16 (\u001b[38;5;33mDropout\u001b[0m)            │ ?                      │   \u001b[38;5;34m0\u001b[0m (unbuilt) │\n",
       "├─────────────────────────────────┼────────────────────────┼───────────────┤\n",
       "│ dense_21 (\u001b[38;5;33mDense\u001b[0m)                │ ?                      │   \u001b[38;5;34m0\u001b[0m (unbuilt) │\n",
       "├─────────────────────────────────┼────────────────────────┼───────────────┤\n",
       "│ dropout_17 (\u001b[38;5;33mDropout\u001b[0m)            │ ?                      │   \u001b[38;5;34m0\u001b[0m (unbuilt) │\n",
       "├─────────────────────────────────┼────────────────────────┼───────────────┤\n",
       "│ dense_22 (\u001b[38;5;33mDense\u001b[0m)                │ ?                      │   \u001b[38;5;34m0\u001b[0m (unbuilt) │\n",
       "├─────────────────────────────────┼────────────────────────┼───────────────┤\n",
       "│ dropout_18 (\u001b[38;5;33mDropout\u001b[0m)            │ ?                      │   \u001b[38;5;34m0\u001b[0m (unbuilt) │\n",
       "├─────────────────────────────────┼────────────────────────┼───────────────┤\n",
       "│ dense_23 (\u001b[38;5;33mDense\u001b[0m)                │ ?                      │   \u001b[38;5;34m0\u001b[0m (unbuilt) │\n",
       "├─────────────────────────────────┼────────────────────────┼───────────────┤\n",
       "│ dropout_19 (\u001b[38;5;33mDropout\u001b[0m)            │ ?                      │   \u001b[38;5;34m0\u001b[0m (unbuilt) │\n",
       "├─────────────────────────────────┼────────────────────────┼───────────────┤\n",
       "│ dense_24 (\u001b[38;5;33mDense\u001b[0m)                │ ?                      │   \u001b[38;5;34m0\u001b[0m (unbuilt) │\n",
       "└─────────────────────────────────┴────────────────────────┴───────────────┘\n"
      ]
     },
     "metadata": {},
     "output_type": "display_data"
    },
    {
     "data": {
      "text/html": [
       "<pre style=\"white-space:pre;overflow-x:auto;line-height:normal;font-family:Menlo,'DejaVu Sans Mono',consolas,'Courier New',monospace\"><span style=\"font-weight: bold\"> Total params: </span><span style=\"color: #00af00; text-decoration-color: #00af00\">14,714,688</span> (56.13 MB)\n",
       "</pre>\n"
      ],
      "text/plain": [
       "\u001b[1m Total params: \u001b[0m\u001b[38;5;34m14,714,688\u001b[0m (56.13 MB)\n"
      ]
     },
     "metadata": {},
     "output_type": "display_data"
    },
    {
     "data": {
      "text/html": [
       "<pre style=\"white-space:pre;overflow-x:auto;line-height:normal;font-family:Menlo,'DejaVu Sans Mono',consolas,'Courier New',monospace\"><span style=\"font-weight: bold\"> Trainable params: </span><span style=\"color: #00af00; text-decoration-color: #00af00\">14,714,688</span> (56.13 MB)\n",
       "</pre>\n"
      ],
      "text/plain": [
       "\u001b[1m Trainable params: \u001b[0m\u001b[38;5;34m14,714,688\u001b[0m (56.13 MB)\n"
      ]
     },
     "metadata": {},
     "output_type": "display_data"
    },
    {
     "data": {
      "text/html": [
       "<pre style=\"white-space:pre;overflow-x:auto;line-height:normal;font-family:Menlo,'DejaVu Sans Mono',consolas,'Courier New',monospace\"><span style=\"font-weight: bold\"> Non-trainable params: </span><span style=\"color: #00af00; text-decoration-color: #00af00\">0</span> (0.00 B)\n",
       "</pre>\n"
      ],
      "text/plain": [
       "\u001b[1m Non-trainable params: \u001b[0m\u001b[38;5;34m0\u001b[0m (0.00 B)\n"
      ]
     },
     "metadata": {},
     "output_type": "display_data"
    }
   ],
   "source": [
    "model41.summary()"
   ]
  },
  {
   "cell_type": "code",
   "execution_count": 41,
   "id": "2205d674",
   "metadata": {},
   "outputs": [
    {
     "name": "stdout",
     "output_type": "stream",
     "text": [
      "Epoch 1/10\n",
      "\u001b[1m52/52\u001b[0m \u001b[32m━━━━━━━━━━━━━━━━━━━━\u001b[0m\u001b[37m\u001b[0m \u001b[1m816s\u001b[0m 15s/step - accuracy: 0.5804 - loss: 3.6489 - val_accuracy: 0.6143 - val_loss: 0.5772\n",
      "Epoch 2/10\n",
      "\u001b[1m52/52\u001b[0m \u001b[32m━━━━━━━━━━━━━━━━━━━━\u001b[0m\u001b[37m\u001b[0m \u001b[1m786s\u001b[0m 15s/step - accuracy: 0.6732 - loss: 0.5768 - val_accuracy: 0.6143 - val_loss: 0.4762\n",
      "Epoch 3/10\n",
      "\u001b[1m52/52\u001b[0m \u001b[32m━━━━━━━━━━━━━━━━━━━━\u001b[0m\u001b[37m\u001b[0m \u001b[1m805s\u001b[0m 15s/step - accuracy: 0.6804 - loss: 0.4732 - val_accuracy: 0.8780 - val_loss: 0.3151\n",
      "Epoch 4/10\n",
      "\u001b[1m52/52\u001b[0m \u001b[32m━━━━━━━━━━━━━━━━━━━━\u001b[0m\u001b[37m\u001b[0m \u001b[1m788s\u001b[0m 15s/step - accuracy: 0.7666 - loss: 0.5031 - val_accuracy: 0.7229 - val_loss: 0.4755\n",
      "Epoch 5/10\n",
      "\u001b[1m52/52\u001b[0m \u001b[32m━━━━━━━━━━━━━━━━━━━━\u001b[0m\u001b[37m\u001b[0m \u001b[1m792s\u001b[0m 15s/step - accuracy: 0.8272 - loss: 0.3721 - val_accuracy: 0.9363 - val_loss: 0.1809\n",
      "Epoch 6/10\n",
      "\u001b[1m52/52\u001b[0m \u001b[32m━━━━━━━━━━━━━━━━━━━━\u001b[0m\u001b[37m\u001b[0m \u001b[1m720s\u001b[0m 14s/step - accuracy: 0.9047 - loss: 0.2531 - val_accuracy: 0.9489 - val_loss: 0.1463\n",
      "Epoch 7/10\n",
      "\u001b[1m52/52\u001b[0m \u001b[32m━━━━━━━━━━━━━━━━━━━━\u001b[0m\u001b[37m\u001b[0m \u001b[1m676s\u001b[0m 13s/step - accuracy: 0.9429 - loss: 0.1611 - val_accuracy: 0.9489 - val_loss: 0.1389\n",
      "Epoch 8/10\n",
      "\u001b[1m52/52\u001b[0m \u001b[32m━━━━━━━━━━━━━━━━━━━━\u001b[0m\u001b[37m\u001b[0m \u001b[1m659s\u001b[0m 13s/step - accuracy: 0.9441 - loss: 0.1690 - val_accuracy: 0.9283 - val_loss: 0.1656\n",
      "Epoch 9/10\n",
      "\u001b[1m52/52\u001b[0m \u001b[32m━━━━━━━━━━━━━━━━━━━━\u001b[0m\u001b[37m\u001b[0m \u001b[1m706s\u001b[0m 14s/step - accuracy: 0.9047 - loss: 0.3195 - val_accuracy: 0.6143 - val_loss: 0.6389\n",
      "Epoch 10/10\n",
      "\u001b[1m52/52\u001b[0m \u001b[32m━━━━━━━━━━━━━━━━━━━━\u001b[0m\u001b[37m\u001b[0m \u001b[1m708s\u001b[0m 14s/step - accuracy: 0.6242 - loss: 0.6613 - val_accuracy: 0.6143 - val_loss: 0.6182\n"
     ]
    }
   ],
   "source": [
    "start_time4=time.time()\n",
    "\n",
    "history4=model41.fit(train_x, train_y, validation_data=(test_x,test_y), epochs=10, batch_size=50, verbose=1)\n",
    "\n",
    "end_time4=time.time()"
   ]
  },
  {
   "cell_type": "markdown",
   "id": "9e4619f5",
   "metadata": {},
   "source": [
    "# Thus, clearly decreasing the batch size and using adam as optimizer has increased the training accuracy from 66% to 90%+ and has also increased the val accuracy from 61% to 90%+.\n",
    "\n",
    "## note:- here i have not used the weights of IMAGENET dataset(which was used in the previous project)"
   ]
  },
  {
   "cell_type": "code",
   "execution_count": 44,
   "id": "52753c21",
   "metadata": {},
   "outputs": [
    {
     "data": {
      "text/plain": [
       "<matplotlib.legend.Legend at 0x1b64a47fcd0>"
      ]
     },
     "execution_count": 44,
     "metadata": {},
     "output_type": "execute_result"
    },
    {
     "data": {
      "image/png": "[encoded data removed]",
      "text/plain": [
       "<Figure size 640x480 with 1 Axes>"
      ]
     },
     "metadata": {},
     "output_type": "display_data"
    }
   ],
   "source": [
    "plt.plot(history4.history['accuracy'] , label=['accuracy'])\n",
    "plt.plot(history4.history['val_accuracy'] , label=['val_accuracy'])\n",
    "plt.legend()"
   ]
  },
  {
   "cell_type": "code",
   "execution_count": 45,
   "id": "3d9cb972",
   "metadata": {},
   "outputs": [],
   "source": [
    "import tensorflow as tf\n",
    "from tensorflow.keras.preprocessing.image import ImageDataGenerator\n",
    "from sklearn.metrics import classification_report, confusion_matrix"
   ]
  },
  {
   "cell_type": "code",
   "execution_count": 58,
   "id": "60944ee8",
   "metadata": {},
   "outputs": [],
   "source": [
    "test_datagen = ImageDataGenerator(rescale=1./255)\n",
    "                                 #rotation_range=0.75,\n",
    "                                  #zoom_range=0.75,\n",
    "                                  #horizontal_flip=True,\n",
    "                                  #fill_mode='nearest')"
   ]
  },
  {
   "cell_type": "code",
   "execution_count": 62,
   "id": "7e0fe38c",
   "metadata": {},
   "outputs": [
    {
     "name": "stdout",
     "output_type": "stream",
     "text": [
      "Found 624 images belonging to 2 classes.\n"
     ]
    }
   ],
   "source": [
    "test_generator = test_datagen.flow_from_directory(\n",
    "    r'E:\\AI\\dataset_for_image_classification\\chest_x_ray_pneumonia_dataset\\chest_xray\\test',\n",
    "    target_size=(100,100),\n",
    "    batch_size=30,\n",
    "    class_mode='categorical' )"
   ]
  },
  {
   "cell_type": "code",
   "execution_count": 63,
   "id": "117fc1ea",
   "metadata": {},
   "outputs": [
    {
     "name": "stderr",
     "output_type": "stream",
     "text": [
      "C:\\Users\\HP\\anaconda3\\Lib\\site-packages\\keras\\src\\trainers\\data_adapters\\py_dataset_adapter.py:121: UserWarning: Your `PyDataset` class should call `super().__init__(**kwargs)` in its constructor. `**kwargs` can include `workers`, `use_multiprocessing`, `max_queue_size`. Do not pass these arguments to `fit()`, as they will be ignored.\n",
      "  self._warn_if_super_not_called()\n"
     ]
    },
    {
     "name": "stdout",
     "output_type": "stream",
     "text": [
      "\u001b[1m21/21\u001b[0m \u001b[32m━━━━━━━━━━━━━━━━━━━━\u001b[0m\u001b[37m\u001b[0m \u001b[1m52s\u001b[0m 2s/step - accuracy: 0.6365 - loss: 0.8748\n",
      "Test accuracy: 0.625\n"
     ]
    }
   ],
   "source": [
    "test_loss, test_accuracy = model41.evaluate(test_generator)\n",
    "print('Test accuracy:', test_accuracy)"
   ]
  },
  {
   "cell_type": "code",
   "execution_count": 65,
   "id": "a792b931",
   "metadata": {},
   "outputs": [
    {
     "name": "stdout",
     "output_type": "stream",
     "text": [
      "\u001b[1m21/21\u001b[0m \u001b[32m━━━━━━━━━━━━━━━━━━━━\u001b[0m\u001b[37m\u001b[0m \u001b[1m51s\u001b[0m 2s/step\n"
     ]
    }
   ],
   "source": [
    "# Predict the classes of the test data\n",
    "Y_pred = model41.predict(test_generator)\n",
    "y_pred = np.argmax(Y_pred, axis=1)"
   ]
  },
  {
   "cell_type": "code",
   "execution_count": 66,
   "id": "cf791150",
   "metadata": {},
   "outputs": [
    {
     "data": {
      "text/plain": [
       "array([1, 1, 1, 1, 1, 1, 1, 1, 1, 1, 1, 1, 1, 1, 1, 1, 1, 1, 1, 1, 1, 1,\n",
       "       1, 1, 1, 1, 1, 1, 1, 1, 1, 1, 1, 1, 1, 1, 1, 1, 1, 1, 1, 1, 1, 1,\n",
       "       1, 1, 1, 1, 1, 1, 1, 1, 1, 1, 1, 1, 1, 1, 1, 1, 1, 1, 1, 1, 1, 1,\n",
       "       1, 1, 1, 1, 1, 1, 1, 1, 1, 1, 1, 1, 1, 1, 1, 1, 1, 1, 1, 1, 1, 1,\n",
       "       1, 1, 1, 1, 1, 1, 1, 1, 1, 1, 1, 1, 1, 1, 1, 1, 1, 1, 1, 1, 1, 1,\n",
       "       1, 1, 1, 1, 1, 1, 1, 1, 1, 1, 1, 1, 1, 1, 1, 1, 1, 1, 1, 1, 1, 1,\n",
       "       1, 1, 1, 1, 1, 1, 1, 1, 1, 1, 1, 1, 1, 1, 1, 1, 1, 1, 1, 1, 1, 1,\n",
       "       1, 1, 1, 1, 1, 1, 1, 1, 1, 1, 1, 1, 1, 1, 1, 1, 1, 1, 1, 1, 1, 1,\n",
       "       1, 1, 1, 1, 1, 1, 1, 1, 1, 1, 1, 1, 1, 1, 1, 1, 1, 1, 1, 1, 1, 1,\n",
       "       1, 1, 1, 1, 1, 1, 1, 1, 1, 1, 1, 1, 1, 1, 1, 1, 1, 1, 1, 1, 1, 1,\n",
       "       1, 1, 1, 1, 1, 1, 1, 1, 1, 1, 1, 1, 1, 1, 1, 1, 1, 1, 1, 1, 1, 1,\n",
       "       1, 1, 1, 1, 1, 1, 1, 1, 1, 1, 1, 1, 1, 1, 1, 1, 1, 1, 1, 1, 1, 1,\n",
       "       1, 1, 1, 1, 1, 1, 1, 1, 1, 1, 1, 1, 1, 1, 1, 1, 1, 1, 1, 1, 1, 1,\n",
       "       1, 1, 1, 1, 1, 1, 1, 1, 1, 1, 1, 1, 1, 1, 1, 1, 1, 1, 1, 1, 1, 1,\n",
       "       1, 1, 1, 1, 1, 1, 1, 1, 1, 1, 1, 1, 1, 1, 1, 1, 1, 1, 1, 1, 1, 1,\n",
       "       1, 1, 1, 1, 1, 1, 1, 1, 1, 1, 1, 1, 1, 1, 1, 1, 1, 1, 1, 1, 1, 1,\n",
       "       1, 1, 1, 1, 1, 1, 1, 1, 1, 1, 1, 1, 1, 1, 1, 1, 1, 1, 1, 1, 1, 1,\n",
       "       1, 1, 1, 1, 1, 1, 1, 1, 1, 1, 1, 1, 1, 1, 1, 1, 1, 1, 1, 1, 1, 1,\n",
       "       1, 1, 1, 1, 1, 1, 1, 1, 1, 1, 1, 1, 1, 1, 1, 1, 1, 1, 1, 1, 1, 1,\n",
       "       1, 1, 1, 1, 1, 1, 1, 1, 1, 1, 1, 1, 1, 1, 1, 1, 1, 1, 1, 1, 1, 1,\n",
       "       1, 1, 1, 1, 1, 1, 1, 1, 1, 1, 1, 1, 1, 1, 1, 1, 1, 1, 1, 1, 1, 1,\n",
       "       1, 1, 1, 1, 1, 1, 1, 1, 1, 1, 1, 1, 1, 1, 1, 1, 1, 1, 1, 1, 1, 1,\n",
       "       1, 1, 1, 1, 1, 1, 1, 1, 1, 1, 1, 1, 1, 1, 1, 1, 1, 1, 1, 1, 1, 1,\n",
       "       1, 1, 1, 1, 1, 1, 1, 1, 1, 1, 1, 1, 1, 1, 1, 1, 1, 1, 1, 1, 1, 1,\n",
       "       1, 1, 1, 1, 1, 1, 1, 1, 1, 1, 1, 1, 1, 1, 1, 1, 1, 1, 1, 1, 1, 1,\n",
       "       1, 1, 1, 1, 1, 1, 1, 1, 1, 1, 1, 1, 1, 1, 1, 1, 1, 1, 1, 1, 1, 1,\n",
       "       1, 1, 1, 1, 1, 1, 1, 1, 1, 1, 1, 1, 1, 1, 1, 1, 1, 1, 1, 1, 1, 1,\n",
       "       1, 1, 1, 1, 1, 1, 1, 1, 1, 1, 1, 1, 1, 1, 1, 1, 1, 1, 1, 1, 1, 1,\n",
       "       1, 1, 1, 1, 1, 1, 1, 1], dtype=int64)"
      ]
     },
     "execution_count": 66,
     "metadata": {},
     "output_type": "execute_result"
    }
   ],
   "source": [
    "y_pred"
   ]
  },
  {
   "cell_type": "code",
   "execution_count": 67,
   "id": "23dc6489",
   "metadata": {},
   "outputs": [
    {
     "name": "stdout",
     "output_type": "stream",
     "text": [
      "Confusion Matrix\n",
      "[[  0 234]\n",
      " [  0 390]]\n"
     ]
    }
   ],
   "source": [
    "# Compute confusion matrix and classification report\n",
    "print('Confusion Matrix')\n",
    "print(confusion_matrix(test_generator.classes, y_pred))"
   ]
  },
  {
   "cell_type": "code",
   "execution_count": 68,
   "id": "8bc9e4db",
   "metadata": {},
   "outputs": [
    {
     "name": "stdout",
     "output_type": "stream",
     "text": [
      "Classification Report\n",
      "              precision    recall  f1-score   support\n",
      "\n",
      "     Class 0       0.00      0.00      0.00       234\n",
      "     Class 1       0.62      1.00      0.77       390\n",
      "\n",
      "    accuracy                           0.62       624\n",
      "   macro avg       0.31      0.50      0.38       624\n",
      "weighted avg       0.39      0.62      0.48       624\n",
      "\n"
     ]
    },
    {
     "name": "stderr",
     "output_type": "stream",
     "text": [
      "C:\\Users\\HP\\anaconda3\\Lib\\site-packages\\sklearn\\metrics\\_classification.py:1344: UndefinedMetricWarning: Precision and F-score are ill-defined and being set to 0.0 in labels with no predicted samples. Use `zero_division` parameter to control this behavior.\n",
      "  _warn_prf(average, modifier, msg_start, len(result))\n",
      "C:\\Users\\HP\\anaconda3\\Lib\\site-packages\\sklearn\\metrics\\_classification.py:1344: UndefinedMetricWarning: Precision and F-score are ill-defined and being set to 0.0 in labels with no predicted samples. Use `zero_division` parameter to control this behavior.\n",
      "  _warn_prf(average, modifier, msg_start, len(result))\n",
      "C:\\Users\\HP\\anaconda3\\Lib\\site-packages\\sklearn\\metrics\\_classification.py:1344: UndefinedMetricWarning: Precision and F-score are ill-defined and being set to 0.0 in labels with no predicted samples. Use `zero_division` parameter to control this behavior.\n",
      "  _warn_prf(average, modifier, msg_start, len(result))\n"
     ]
    }
   ],
   "source": [
    "print('Classification Report')\n",
    "target_names = ['Class 0', 'Class 1']  # Change this according to your class names\n",
    "print(classification_report(test_generator.classes, y_pred, target_names=target_names))"
   ]
  },
  {
   "cell_type": "code",
   "execution_count": null,
   "id": "9a725727",
   "metadata": {},
   "outputs": [],
   "source": []
  },
  {
   "cell_type": "code",
   "execution_count": null,
   "id": "32433776",
   "metadata": {},
   "outputs": [],
   "source": []
  }
 ],
 "metadata": {
  "kernelspec": {
   "display_name": "Python 3 (ipykernel)",
   "language": "python",
   "name": "python3"
  },
  "language_info": {
   "codemirror_mode": {
    "name": "ipython",
    "version": 3
   },
   "file_extension": ".py",
   "mimetype": "text/x-python",
   "name": "python",
   "nbconvert_exporter": "python",
   "pygments_lexer": "ipython3",
   "version": "3.12.4"
  }
 },
 "nbformat": 4,
 "nbformat_minor": 5
}
